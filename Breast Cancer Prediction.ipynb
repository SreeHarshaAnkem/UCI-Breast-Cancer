{
 "cells": [
  {
   "cell_type": "markdown",
   "metadata": {},
   "source": [
    "# Breast Cancer Prediction\n",
    "### Classification Task \n",
    "### Classes : Benign & Malignant\n",
    "### Data Source: UCI\n",
    "### Kernel: root, python3\n",
    "#### To Do: \n",
    "1. Outlier Removal\n",
    "2. Decision Boundary plot\n",
    "3. Validation of own library - comp, perf, metrics\n",
    "4. XGB,ANN"
   ]
  },
  {
   "cell_type": "code",
   "execution_count": 259,
   "metadata": {},
   "outputs": [],
   "source": [
    "import numpy as np\n",
    "import pandas as pd\n",
    "import matplotlib.pyplot as plt\n",
    "%matplotlib inline\n",
    "\n",
    "from sklearn.preprocessing import normalize, LabelEncoder, OneHotEncoder\n",
    "from sklearn.model_selection import train_test_split\n",
    "from sklearn.metrics import accuracy_score, recall_score, precision_score, fbeta_score, classification_report, confusion_matrix,                             roc_curve,auc, precision_recall_curve"
   ]
  },
  {
   "cell_type": "code",
   "execution_count": null,
   "metadata": {
    "collapsed": true
   },
   "outputs": [],
   "source": [
    "def optimal_threshold_prob(true_label,predicted_prob):\n",
    "    precision, recall, threshold = precision_recall_curve(true_label, predicted_prob)\n",
    "    p_r_o = pd.concat([pd.DataFrame(precision), pd.DataFrame(recall), pd.DataFrame(threshold)], axis =1)\n",
    "    p_r_o.columns = ['precision', 'recall', 'threshold']\n",
    "    p_r_o['f1'] = 2*p_r_o['precision']*p_r_o['recall']/(p_r_o['precision']+p_r_o['recall'])\n",
    "    opt_index = np.argmax(p_r_o['f1'])\n",
    "    #print(p_r_o)\n",
    "    return threshold[opt_index]\n",
    "\n",
    "def eval_roc(true_label, predicted_prob):\n",
    "    fpr, tpr, threshold = roc_curve(true_label, predicted_prob)\n",
    "    opt_prob = optimal_threshold_prob(true_label, predicted_prob)\n",
    "    plt.plot(fpr, tpr)\n",
    "    plt.title('ROC')\n",
    "    plt.xlabel('fpr')\n",
    "    plt.ylabel('tpr')\n",
    "    return opt_prob\n",
    "\n",
    "def generate_metrics(true_label, predicted_label):\n",
    "    \n",
    "    opt_thres_prob = eval_roc(true_label, predicted_label)\n",
    "    predicted_class= pd.DataFrame(predicted_label).iloc[:,0].apply(lambda x: 1 if x>opt_thres_prob else 0)\n",
    "    \n",
    "    metrics = {}\n",
    "    metrics['accuracy'] = accuracy_score(true_label, predicted_class)\n",
    "    metrics['recall'] = recall_score(true_label, predicted_class)\n",
    "    metrics['precision'] = precision_score(true_label, predicted_class)\n",
    "\n",
    "    \n",
    "    #print(confusion_matrix(true_label, predicted_class, labels = [1, 0]))\n",
    "    #print(classification_report(true_label, predicted_class, labels = [1,0]))\n",
    "    return metrics\n",
    "    "
   ]
  },
  {
   "cell_type": "markdown",
   "metadata": {},
   "source": [
    "#### Reading Data"
   ]
  },
  {
   "cell_type": "code",
   "execution_count": 16,
   "metadata": {
    "collapsed": true
   },
   "outputs": [],
   "source": [
    "df = pd.read_csv('http://archive.ics.uci.edu/ml/machine-learning-databases/breast-cancer-wisconsin/breast-cancer-wisconsin.data',\n",
    "                header = None)"
   ]
  },
  {
   "cell_type": "code",
   "execution_count": 18,
   "metadata": {},
   "outputs": [],
   "source": [
    "df.columns = ['_Sample_code_number',\n",
    "                '_Clump_Thickness',\n",
    "                '_Uniformity_of_Cell_Size',\n",
    "                '_Uniformity_of_Cell_Shape',\n",
    "                '_Marginal_Adhesion',\n",
    "                '_Single_Epithelial_Cell_Size',\n",
    "                '_Bare_Nuclei',\n",
    "                '_Bland_Chromatin',\n",
    "                '_Normal_Nucleoli',\n",
    "                '_Mitoses',\n",
    "                '_Class'\n",
    "            ]"
   ]
  },
  {
   "cell_type": "markdown",
   "metadata": {},
   "source": [
    "#### Converting 2->0, 4->1"
   ]
  },
  {
   "cell_type": "code",
   "execution_count": 20,
   "metadata": {},
   "outputs": [],
   "source": [
    "df.iloc[:, -1] = df.iloc[:,-1].apply(lambda x: 0 if x == 2 else 1)"
   ]
  },
  {
   "cell_type": "code",
   "execution_count": 21,
   "metadata": {},
   "outputs": [
    {
     "data": {
      "text/plain": [
       "Index(['_Sample_code_number', '_Clump_Thickness', '_Uniformity_of_Cell_Size',\n",
       "       '_Uniformity_of_Cell_Shape', '_Marginal_Adhesion',\n",
       "       '_Single_Epithelial_Cell_Size', '_Bare_Nuclei', '_Bland_Chromatin',\n",
       "       '_Normal_Nucleoli', '_Mitoses', '_Class'],\n",
       "      dtype='object')"
      ]
     },
     "execution_count": 21,
     "metadata": {},
     "output_type": "execute_result"
    }
   ],
   "source": [
    "df.columns"
   ]
  },
  {
   "cell_type": "markdown",
   "metadata": {},
   "source": [
    "#### Class Distribution"
   ]
  },
  {
   "cell_type": "code",
   "execution_count": 22,
   "metadata": {},
   "outputs": [
    {
     "data": {
      "text/plain": [
       "0    458\n",
       "1    241\n",
       "Name: _Class, dtype: int64"
      ]
     },
     "execution_count": 22,
     "metadata": {},
     "output_type": "execute_result"
    }
   ],
   "source": [
    "df._Class.value_counts()"
   ]
  },
  {
   "cell_type": "markdown",
   "metadata": {},
   "source": [
    "#### NullValue Check"
   ]
  },
  {
   "cell_type": "code",
   "execution_count": 24,
   "metadata": {},
   "outputs": [
    {
     "data": {
      "text/plain": [
       "_Sample_code_number             0\n",
       "_Clump_Thickness                0\n",
       "_Uniformity_of_Cell_Size        0\n",
       "_Uniformity_of_Cell_Shape       0\n",
       "_Marginal_Adhesion              0\n",
       "_Single_Epithelial_Cell_Size    0\n",
       "_Bare_Nuclei                    0\n",
       "_Bland_Chromatin                0\n",
       "_Normal_Nucleoli                0\n",
       "_Mitoses                        0\n",
       "_Class                          0\n",
       "dtype: int64"
      ]
     },
     "execution_count": 24,
     "metadata": {},
     "output_type": "execute_result"
    }
   ],
   "source": [
    "df.isnull().sum()"
   ]
  },
  {
   "cell_type": "markdown",
   "metadata": {},
   "source": [
    "#### Structure"
   ]
  },
  {
   "cell_type": "code",
   "execution_count": 25,
   "metadata": {},
   "outputs": [
    {
     "name": "stdout",
     "output_type": "stream",
     "text": [
      "<class 'pandas.core.frame.DataFrame'>\n",
      "RangeIndex: 699 entries, 0 to 698\n",
      "Data columns (total 11 columns):\n",
      "_Sample_code_number             699 non-null int64\n",
      "_Clump_Thickness                699 non-null int64\n",
      "_Uniformity_of_Cell_Size        699 non-null int64\n",
      "_Uniformity_of_Cell_Shape       699 non-null int64\n",
      "_Marginal_Adhesion              699 non-null int64\n",
      "_Single_Epithelial_Cell_Size    699 non-null int64\n",
      "_Bare_Nuclei                    699 non-null object\n",
      "_Bland_Chromatin                699 non-null int64\n",
      "_Normal_Nucleoli                699 non-null int64\n",
      "_Mitoses                        699 non-null int64\n",
      "_Class                          699 non-null int64\n",
      "dtypes: int64(10), object(1)\n",
      "memory usage: 60.1+ KB\n"
     ]
    }
   ],
   "source": [
    "df.info()"
   ]
  },
  {
   "cell_type": "markdown",
   "metadata": {},
   "source": [
    "#### Summary Stats: Inference - Not normal"
   ]
  },
  {
   "cell_type": "code",
   "execution_count": 31,
   "metadata": {},
   "outputs": [
    {
     "data": {
      "text/html": [
       "<div>\n",
       "<table border=\"1\" class=\"dataframe\">\n",
       "  <thead>\n",
       "    <tr style=\"text-align: right;\">\n",
       "      <th></th>\n",
       "      <th>_Clump_Thickness</th>\n",
       "      <th>_Uniformity_of_Cell_Size</th>\n",
       "      <th>_Uniformity_of_Cell_Shape</th>\n",
       "      <th>_Marginal_Adhesion</th>\n",
       "      <th>_Single_Epithelial_Cell_Size</th>\n",
       "      <th>_Bland_Chromatin</th>\n",
       "      <th>_Normal_Nucleoli</th>\n",
       "      <th>_Mitoses</th>\n",
       "      <th>_Class</th>\n",
       "    </tr>\n",
       "  </thead>\n",
       "  <tbody>\n",
       "    <tr>\n",
       "      <th>count</th>\n",
       "      <td>699.000000</td>\n",
       "      <td>699.000000</td>\n",
       "      <td>699.000000</td>\n",
       "      <td>699.000000</td>\n",
       "      <td>699.000000</td>\n",
       "      <td>699.000000</td>\n",
       "      <td>699.000000</td>\n",
       "      <td>699.000000</td>\n",
       "      <td>699.000000</td>\n",
       "    </tr>\n",
       "    <tr>\n",
       "      <th>mean</th>\n",
       "      <td>4.417740</td>\n",
       "      <td>3.134478</td>\n",
       "      <td>3.207439</td>\n",
       "      <td>2.806867</td>\n",
       "      <td>3.216023</td>\n",
       "      <td>3.437768</td>\n",
       "      <td>2.866953</td>\n",
       "      <td>1.589413</td>\n",
       "      <td>0.344778</td>\n",
       "    </tr>\n",
       "    <tr>\n",
       "      <th>std</th>\n",
       "      <td>2.815741</td>\n",
       "      <td>3.051459</td>\n",
       "      <td>2.971913</td>\n",
       "      <td>2.855379</td>\n",
       "      <td>2.214300</td>\n",
       "      <td>2.438364</td>\n",
       "      <td>3.053634</td>\n",
       "      <td>1.715078</td>\n",
       "      <td>0.475636</td>\n",
       "    </tr>\n",
       "    <tr>\n",
       "      <th>min</th>\n",
       "      <td>1.000000</td>\n",
       "      <td>1.000000</td>\n",
       "      <td>1.000000</td>\n",
       "      <td>1.000000</td>\n",
       "      <td>1.000000</td>\n",
       "      <td>1.000000</td>\n",
       "      <td>1.000000</td>\n",
       "      <td>1.000000</td>\n",
       "      <td>0.000000</td>\n",
       "    </tr>\n",
       "    <tr>\n",
       "      <th>25%</th>\n",
       "      <td>2.000000</td>\n",
       "      <td>1.000000</td>\n",
       "      <td>1.000000</td>\n",
       "      <td>1.000000</td>\n",
       "      <td>2.000000</td>\n",
       "      <td>2.000000</td>\n",
       "      <td>1.000000</td>\n",
       "      <td>1.000000</td>\n",
       "      <td>0.000000</td>\n",
       "    </tr>\n",
       "    <tr>\n",
       "      <th>50%</th>\n",
       "      <td>4.000000</td>\n",
       "      <td>1.000000</td>\n",
       "      <td>1.000000</td>\n",
       "      <td>1.000000</td>\n",
       "      <td>2.000000</td>\n",
       "      <td>3.000000</td>\n",
       "      <td>1.000000</td>\n",
       "      <td>1.000000</td>\n",
       "      <td>0.000000</td>\n",
       "    </tr>\n",
       "    <tr>\n",
       "      <th>75%</th>\n",
       "      <td>6.000000</td>\n",
       "      <td>5.000000</td>\n",
       "      <td>5.000000</td>\n",
       "      <td>4.000000</td>\n",
       "      <td>4.000000</td>\n",
       "      <td>5.000000</td>\n",
       "      <td>4.000000</td>\n",
       "      <td>1.000000</td>\n",
       "      <td>1.000000</td>\n",
       "    </tr>\n",
       "    <tr>\n",
       "      <th>max</th>\n",
       "      <td>10.000000</td>\n",
       "      <td>10.000000</td>\n",
       "      <td>10.000000</td>\n",
       "      <td>10.000000</td>\n",
       "      <td>10.000000</td>\n",
       "      <td>10.000000</td>\n",
       "      <td>10.000000</td>\n",
       "      <td>10.000000</td>\n",
       "      <td>1.000000</td>\n",
       "    </tr>\n",
       "  </tbody>\n",
       "</table>\n",
       "</div>"
      ],
      "text/plain": [
       "       _Clump_Thickness  _Uniformity_of_Cell_Size  _Uniformity_of_Cell_Shape  \\\n",
       "count        699.000000                699.000000                 699.000000   \n",
       "mean           4.417740                  3.134478                   3.207439   \n",
       "std            2.815741                  3.051459                   2.971913   \n",
       "min            1.000000                  1.000000                   1.000000   \n",
       "25%            2.000000                  1.000000                   1.000000   \n",
       "50%            4.000000                  1.000000                   1.000000   \n",
       "75%            6.000000                  5.000000                   5.000000   \n",
       "max           10.000000                 10.000000                  10.000000   \n",
       "\n",
       "       _Marginal_Adhesion  _Single_Epithelial_Cell_Size  _Bland_Chromatin  \\\n",
       "count          699.000000                    699.000000        699.000000   \n",
       "mean             2.806867                      3.216023          3.437768   \n",
       "std              2.855379                      2.214300          2.438364   \n",
       "min              1.000000                      1.000000          1.000000   \n",
       "25%              1.000000                      2.000000          2.000000   \n",
       "50%              1.000000                      2.000000          3.000000   \n",
       "75%              4.000000                      4.000000          5.000000   \n",
       "max             10.000000                     10.000000         10.000000   \n",
       "\n",
       "       _Normal_Nucleoli    _Mitoses      _Class  \n",
       "count        699.000000  699.000000  699.000000  \n",
       "mean           2.866953    1.589413    0.344778  \n",
       "std            3.053634    1.715078    0.475636  \n",
       "min            1.000000    1.000000    0.000000  \n",
       "25%            1.000000    1.000000    0.000000  \n",
       "50%            1.000000    1.000000    0.000000  \n",
       "75%            4.000000    1.000000    1.000000  \n",
       "max           10.000000   10.000000    1.000000  "
      ]
     },
     "execution_count": 31,
     "metadata": {},
     "output_type": "execute_result"
    }
   ],
   "source": [
    "df.iloc[:, 1:].describe()"
   ]
  },
  {
   "cell_type": "markdown",
   "metadata": {},
   "source": [
    "#### Categorical Attr"
   ]
  },
  {
   "cell_type": "code",
   "execution_count": 41,
   "metadata": {},
   "outputs": [
    {
     "data": {
      "text/plain": [
       "array(['1', '10', '2', '4', '3', '9', '7', '?', '5', '8', '6'], dtype=object)"
      ]
     },
     "execution_count": 41,
     "metadata": {},
     "output_type": "execute_result"
    }
   ],
   "source": [
    "df.loc[:,'_Bare_Nuclei'].unique()"
   ]
  },
  {
   "cell_type": "code",
   "execution_count": 110,
   "metadata": {},
   "outputs": [],
   "source": [
    "df.loc[:,'_Bare_Nuclei'] = df.loc[:,'_Bare_Nuclei'].apply(lambda x: 'NA' if x =='?' else x)"
   ]
  },
  {
   "cell_type": "code",
   "execution_count": 111,
   "metadata": {
    "collapsed": true
   },
   "outputs": [],
   "source": [
    "df.loc[:, '_Bare_Nuclei'] = df.loc[:, '_Bare_Nuclei'].astype('category')"
   ]
  },
  {
   "cell_type": "markdown",
   "metadata": {},
   "source": [
    "#### Numeric Attr"
   ]
  },
  {
   "cell_type": "code",
   "execution_count": 319,
   "metadata": {
    "collapsed": true
   },
   "outputs": [],
   "source": [
    "numeric_attr = [col for col in df.columns if col not in ['_Sample_code_number', '_Bare_Nuclei', '_Class']]"
   ]
  },
  {
   "cell_type": "code",
   "execution_count": 320,
   "metadata": {},
   "outputs": [],
   "source": [
    "numeric_attr_df = df.loc[:, numeric_attr]"
   ]
  },
  {
   "cell_type": "code",
   "execution_count": 321,
   "metadata": {},
   "outputs": [
    {
     "data": {
      "text/plain": [
       "Index(['_Clump_Thickness', '_Uniformity_of_Cell_Size',\n",
       "       '_Uniformity_of_Cell_Shape', '_Marginal_Adhesion',\n",
       "       '_Single_Epithelial_Cell_Size', '_Bland_Chromatin', '_Normal_Nucleoli',\n",
       "       '_Mitoses'],\n",
       "      dtype='object')"
      ]
     },
     "execution_count": 321,
     "metadata": {},
     "output_type": "execute_result"
    }
   ],
   "source": [
    "numeric_attr_df.columns"
   ]
  },
  {
   "cell_type": "code",
   "execution_count": 322,
   "metadata": {
    "collapsed": true
   },
   "outputs": [],
   "source": [
    "cat_attr_df = df.loc[:, '_Bare_Nuclei']"
   ]
  },
  {
   "cell_type": "markdown",
   "metadata": {},
   "source": [
    "#### Boxplot - Outlier Check"
   ]
  },
  {
   "cell_type": "code",
   "execution_count": 323,
   "metadata": {},
   "outputs": [
    {
     "data": {
      "image/png": "[encoded data removed]",
      "text/plain": [
       "<matplotlib.figure.Figure at 0x1c7ec8ec4a8>"
      ]
     },
     "metadata": {},
     "output_type": "display_data"
    }
   ],
   "source": [
    "for i in range(len(numeric_attr_df.columns)):\n",
    "    plt.subplot(3,4,i+1)\n",
    "    plt.boxplot(numeric_attr_df.iloc[:,i])\n",
    "    plt.title(numeric_attr_df.columns[i], fontsize = 8)\n",
    "plt.tight_layout()"
   ]
  },
  {
   "cell_type": "markdown",
   "metadata": {},
   "source": [
    "#### Cat Attr level frequency distribution check - Inference: Skewed"
   ]
  },
  {
   "cell_type": "code",
   "execution_count": 324,
   "metadata": {},
   "outputs": [
    {
     "data": {
      "text/plain": [
       "<matplotlib.axes._subplots.AxesSubplot at 0x1c7ec99fef0>"
      ]
     },
     "execution_count": 324,
     "metadata": {},
     "output_type": "execute_result"
    },
    {
     "data": {
      "image/png": "[encoded data removed]",
      "text/plain": [
       "<matplotlib.figure.Figure at 0x1c7ec8ec160>"
      ]
     },
     "metadata": {},
     "output_type": "display_data"
    }
   ],
   "source": [
    "cat_attr_df.value_counts().plot(kind = 'bar')"
   ]
  },
  {
   "cell_type": "markdown",
   "metadata": {},
   "source": [
    "#### Dummy Variables"
   ]
  },
  {
   "cell_type": "code",
   "execution_count": 325,
   "metadata": {},
   "outputs": [],
   "source": [
    "cat_attr_df = pd.DataFrame(cat_attr_df)"
   ]
  },
  {
   "cell_type": "code",
   "execution_count": 326,
   "metadata": {},
   "outputs": [],
   "source": [
    "cat_attr_df = pd.get_dummies(cat_attr_df)"
   ]
  },
  {
   "cell_type": "markdown",
   "metadata": {},
   "source": [
    "#### Normalization"
   ]
  },
  {
   "cell_type": "code",
   "execution_count": 327,
   "metadata": {},
   "outputs": [],
   "source": [
    "norm = normalize(numeric_attr_df.iloc[:,:-1])"
   ]
  },
  {
   "cell_type": "code",
   "execution_count": 328,
   "metadata": {},
   "outputs": [],
   "source": [
    "cat_norm_df = pd.concat([pd.DataFrame(cat_attr_df), pd.DataFrame(norm)],  axis = 1)"
   ]
  },
  {
   "cell_type": "code",
   "execution_count": 342,
   "metadata": {},
   "outputs": [],
   "source": [
    "final_df = pd.concat([df.iloc[:,[0,-1,1]], cat_norm_df],axis = 1)"
   ]
  },
  {
   "cell_type": "code",
   "execution_count": 343,
   "metadata": {},
   "outputs": [
    {
     "data": {
      "text/html": [
       "<div>\n",
       "<table border=\"1\" class=\"dataframe\">\n",
       "  <thead>\n",
       "    <tr style=\"text-align: right;\">\n",
       "      <th></th>\n",
       "      <th>_Sample_code_number</th>\n",
       "      <th>_Class</th>\n",
       "      <th>_Clump_Thickness</th>\n",
       "      <th>_Bare_Nuclei_1</th>\n",
       "      <th>_Bare_Nuclei_10</th>\n",
       "      <th>_Bare_Nuclei_2</th>\n",
       "      <th>_Bare_Nuclei_3</th>\n",
       "      <th>_Bare_Nuclei_4</th>\n",
       "      <th>_Bare_Nuclei_5</th>\n",
       "      <th>_Bare_Nuclei_6</th>\n",
       "      <th>...</th>\n",
       "      <th>_Bare_Nuclei_8</th>\n",
       "      <th>_Bare_Nuclei_9</th>\n",
       "      <th>_Bare_Nuclei_NA</th>\n",
       "      <th>0</th>\n",
       "      <th>1</th>\n",
       "      <th>2</th>\n",
       "      <th>3</th>\n",
       "      <th>4</th>\n",
       "      <th>5</th>\n",
       "      <th>6</th>\n",
       "    </tr>\n",
       "  </thead>\n",
       "  <tbody>\n",
       "    <tr>\n",
       "      <th>0</th>\n",
       "      <td>1000025</td>\n",
       "      <td>0</td>\n",
       "      <td>5</td>\n",
       "      <td>1.0</td>\n",
       "      <td>0.0</td>\n",
       "      <td>0.0</td>\n",
       "      <td>0.0</td>\n",
       "      <td>0.0</td>\n",
       "      <td>0.0</td>\n",
       "      <td>0.0</td>\n",
       "      <td>...</td>\n",
       "      <td>0.0</td>\n",
       "      <td>0.0</td>\n",
       "      <td>0.0</td>\n",
       "      <td>0.771517</td>\n",
       "      <td>0.154303</td>\n",
       "      <td>0.154303</td>\n",
       "      <td>0.154303</td>\n",
       "      <td>0.308607</td>\n",
       "      <td>0.462910</td>\n",
       "      <td>0.154303</td>\n",
       "    </tr>\n",
       "    <tr>\n",
       "      <th>1</th>\n",
       "      <td>1002945</td>\n",
       "      <td>0</td>\n",
       "      <td>5</td>\n",
       "      <td>0.0</td>\n",
       "      <td>1.0</td>\n",
       "      <td>0.0</td>\n",
       "      <td>0.0</td>\n",
       "      <td>0.0</td>\n",
       "      <td>0.0</td>\n",
       "      <td>0.0</td>\n",
       "      <td>...</td>\n",
       "      <td>0.0</td>\n",
       "      <td>0.0</td>\n",
       "      <td>0.0</td>\n",
       "      <td>0.416667</td>\n",
       "      <td>0.333333</td>\n",
       "      <td>0.333333</td>\n",
       "      <td>0.416667</td>\n",
       "      <td>0.583333</td>\n",
       "      <td>0.250000</td>\n",
       "      <td>0.166667</td>\n",
       "    </tr>\n",
       "    <tr>\n",
       "      <th>2</th>\n",
       "      <td>1015425</td>\n",
       "      <td>0</td>\n",
       "      <td>3</td>\n",
       "      <td>0.0</td>\n",
       "      <td>0.0</td>\n",
       "      <td>1.0</td>\n",
       "      <td>0.0</td>\n",
       "      <td>0.0</td>\n",
       "      <td>0.0</td>\n",
       "      <td>0.0</td>\n",
       "      <td>...</td>\n",
       "      <td>0.0</td>\n",
       "      <td>0.0</td>\n",
       "      <td>0.0</td>\n",
       "      <td>0.588348</td>\n",
       "      <td>0.196116</td>\n",
       "      <td>0.196116</td>\n",
       "      <td>0.196116</td>\n",
       "      <td>0.392232</td>\n",
       "      <td>0.588348</td>\n",
       "      <td>0.196116</td>\n",
       "    </tr>\n",
       "    <tr>\n",
       "      <th>3</th>\n",
       "      <td>1016277</td>\n",
       "      <td>0</td>\n",
       "      <td>6</td>\n",
       "      <td>0.0</td>\n",
       "      <td>0.0</td>\n",
       "      <td>0.0</td>\n",
       "      <td>0.0</td>\n",
       "      <td>1.0</td>\n",
       "      <td>0.0</td>\n",
       "      <td>0.0</td>\n",
       "      <td>...</td>\n",
       "      <td>0.0</td>\n",
       "      <td>0.0</td>\n",
       "      <td>0.0</td>\n",
       "      <td>0.393919</td>\n",
       "      <td>0.525226</td>\n",
       "      <td>0.525226</td>\n",
       "      <td>0.065653</td>\n",
       "      <td>0.196960</td>\n",
       "      <td>0.196960</td>\n",
       "      <td>0.459573</td>\n",
       "    </tr>\n",
       "    <tr>\n",
       "      <th>4</th>\n",
       "      <td>1017023</td>\n",
       "      <td>0</td>\n",
       "      <td>4</td>\n",
       "      <td>1.0</td>\n",
       "      <td>0.0</td>\n",
       "      <td>0.0</td>\n",
       "      <td>0.0</td>\n",
       "      <td>0.0</td>\n",
       "      <td>0.0</td>\n",
       "      <td>0.0</td>\n",
       "      <td>...</td>\n",
       "      <td>0.0</td>\n",
       "      <td>0.0</td>\n",
       "      <td>0.0</td>\n",
       "      <td>0.624695</td>\n",
       "      <td>0.156174</td>\n",
       "      <td>0.156174</td>\n",
       "      <td>0.468521</td>\n",
       "      <td>0.312348</td>\n",
       "      <td>0.468521</td>\n",
       "      <td>0.156174</td>\n",
       "    </tr>\n",
       "    <tr>\n",
       "      <th>5</th>\n",
       "      <td>1017122</td>\n",
       "      <td>1</td>\n",
       "      <td>8</td>\n",
       "      <td>0.0</td>\n",
       "      <td>1.0</td>\n",
       "      <td>0.0</td>\n",
       "      <td>0.0</td>\n",
       "      <td>0.0</td>\n",
       "      <td>0.0</td>\n",
       "      <td>0.0</td>\n",
       "      <td>...</td>\n",
       "      <td>0.0</td>\n",
       "      <td>0.0</td>\n",
       "      <td>0.0</td>\n",
       "      <td>0.355292</td>\n",
       "      <td>0.444116</td>\n",
       "      <td>0.444116</td>\n",
       "      <td>0.355292</td>\n",
       "      <td>0.310881</td>\n",
       "      <td>0.399704</td>\n",
       "      <td>0.310881</td>\n",
       "    </tr>\n",
       "    <tr>\n",
       "      <th>6</th>\n",
       "      <td>1018099</td>\n",
       "      <td>0</td>\n",
       "      <td>1</td>\n",
       "      <td>0.0</td>\n",
       "      <td>1.0</td>\n",
       "      <td>0.0</td>\n",
       "      <td>0.0</td>\n",
       "      <td>0.0</td>\n",
       "      <td>0.0</td>\n",
       "      <td>0.0</td>\n",
       "      <td>...</td>\n",
       "      <td>0.0</td>\n",
       "      <td>0.0</td>\n",
       "      <td>0.0</td>\n",
       "      <td>0.235702</td>\n",
       "      <td>0.235702</td>\n",
       "      <td>0.235702</td>\n",
       "      <td>0.235702</td>\n",
       "      <td>0.471405</td>\n",
       "      <td>0.707107</td>\n",
       "      <td>0.235702</td>\n",
       "    </tr>\n",
       "    <tr>\n",
       "      <th>7</th>\n",
       "      <td>1018561</td>\n",
       "      <td>0</td>\n",
       "      <td>2</td>\n",
       "      <td>1.0</td>\n",
       "      <td>0.0</td>\n",
       "      <td>0.0</td>\n",
       "      <td>0.0</td>\n",
       "      <td>0.0</td>\n",
       "      <td>0.0</td>\n",
       "      <td>0.0</td>\n",
       "      <td>...</td>\n",
       "      <td>0.0</td>\n",
       "      <td>0.0</td>\n",
       "      <td>0.0</td>\n",
       "      <td>0.408248</td>\n",
       "      <td>0.204124</td>\n",
       "      <td>0.408248</td>\n",
       "      <td>0.204124</td>\n",
       "      <td>0.408248</td>\n",
       "      <td>0.612372</td>\n",
       "      <td>0.204124</td>\n",
       "    </tr>\n",
       "    <tr>\n",
       "      <th>8</th>\n",
       "      <td>1033078</td>\n",
       "      <td>0</td>\n",
       "      <td>2</td>\n",
       "      <td>1.0</td>\n",
       "      <td>0.0</td>\n",
       "      <td>0.0</td>\n",
       "      <td>0.0</td>\n",
       "      <td>0.0</td>\n",
       "      <td>0.0</td>\n",
       "      <td>0.0</td>\n",
       "      <td>...</td>\n",
       "      <td>0.0</td>\n",
       "      <td>0.0</td>\n",
       "      <td>0.0</td>\n",
       "      <td>0.554700</td>\n",
       "      <td>0.277350</td>\n",
       "      <td>0.277350</td>\n",
       "      <td>0.277350</td>\n",
       "      <td>0.554700</td>\n",
       "      <td>0.277350</td>\n",
       "      <td>0.277350</td>\n",
       "    </tr>\n",
       "    <tr>\n",
       "      <th>9</th>\n",
       "      <td>1033078</td>\n",
       "      <td>0</td>\n",
       "      <td>4</td>\n",
       "      <td>1.0</td>\n",
       "      <td>0.0</td>\n",
       "      <td>0.0</td>\n",
       "      <td>0.0</td>\n",
       "      <td>0.0</td>\n",
       "      <td>0.0</td>\n",
       "      <td>0.0</td>\n",
       "      <td>...</td>\n",
       "      <td>0.0</td>\n",
       "      <td>0.0</td>\n",
       "      <td>0.0</td>\n",
       "      <td>0.718421</td>\n",
       "      <td>0.359211</td>\n",
       "      <td>0.179605</td>\n",
       "      <td>0.179605</td>\n",
       "      <td>0.359211</td>\n",
       "      <td>0.359211</td>\n",
       "      <td>0.179605</td>\n",
       "    </tr>\n",
       "  </tbody>\n",
       "</table>\n",
       "<p>10 rows × 21 columns</p>\n",
       "</div>"
      ],
      "text/plain": [
       "   _Sample_code_number  _Class  _Clump_Thickness  _Bare_Nuclei_1  \\\n",
       "0              1000025       0                 5             1.0   \n",
       "1              1002945       0                 5             0.0   \n",
       "2              1015425       0                 3             0.0   \n",
       "3              1016277       0                 6             0.0   \n",
       "4              1017023       0                 4             1.0   \n",
       "5              1017122       1                 8             0.0   \n",
       "6              1018099       0                 1             0.0   \n",
       "7              1018561       0                 2             1.0   \n",
       "8              1033078       0                 2             1.0   \n",
       "9              1033078       0                 4             1.0   \n",
       "\n",
       "   _Bare_Nuclei_10  _Bare_Nuclei_2  _Bare_Nuclei_3  _Bare_Nuclei_4  \\\n",
       "0              0.0             0.0             0.0             0.0   \n",
       "1              1.0             0.0             0.0             0.0   \n",
       "2              0.0             1.0             0.0             0.0   \n",
       "3              0.0             0.0             0.0             1.0   \n",
       "4              0.0             0.0             0.0             0.0   \n",
       "5              1.0             0.0             0.0             0.0   \n",
       "6              1.0             0.0             0.0             0.0   \n",
       "7              0.0             0.0             0.0             0.0   \n",
       "8              0.0             0.0             0.0             0.0   \n",
       "9              0.0             0.0             0.0             0.0   \n",
       "\n",
       "   _Bare_Nuclei_5  _Bare_Nuclei_6    ...     _Bare_Nuclei_8  _Bare_Nuclei_9  \\\n",
       "0             0.0             0.0    ...                0.0             0.0   \n",
       "1             0.0             0.0    ...                0.0             0.0   \n",
       "2             0.0             0.0    ...                0.0             0.0   \n",
       "3             0.0             0.0    ...                0.0             0.0   \n",
       "4             0.0             0.0    ...                0.0             0.0   \n",
       "5             0.0             0.0    ...                0.0             0.0   \n",
       "6             0.0             0.0    ...                0.0             0.0   \n",
       "7             0.0             0.0    ...                0.0             0.0   \n",
       "8             0.0             0.0    ...                0.0             0.0   \n",
       "9             0.0             0.0    ...                0.0             0.0   \n",
       "\n",
       "   _Bare_Nuclei_NA         0         1         2         3         4  \\\n",
       "0              0.0  0.771517  0.154303  0.154303  0.154303  0.308607   \n",
       "1              0.0  0.416667  0.333333  0.333333  0.416667  0.583333   \n",
       "2              0.0  0.588348  0.196116  0.196116  0.196116  0.392232   \n",
       "3              0.0  0.393919  0.525226  0.525226  0.065653  0.196960   \n",
       "4              0.0  0.624695  0.156174  0.156174  0.468521  0.312348   \n",
       "5              0.0  0.355292  0.444116  0.444116  0.355292  0.310881   \n",
       "6              0.0  0.235702  0.235702  0.235702  0.235702  0.471405   \n",
       "7              0.0  0.408248  0.204124  0.408248  0.204124  0.408248   \n",
       "8              0.0  0.554700  0.277350  0.277350  0.277350  0.554700   \n",
       "9              0.0  0.718421  0.359211  0.179605  0.179605  0.359211   \n",
       "\n",
       "          5         6  \n",
       "0  0.462910  0.154303  \n",
       "1  0.250000  0.166667  \n",
       "2  0.588348  0.196116  \n",
       "3  0.196960  0.459573  \n",
       "4  0.468521  0.156174  \n",
       "5  0.399704  0.310881  \n",
       "6  0.707107  0.235702  \n",
       "7  0.612372  0.204124  \n",
       "8  0.277350  0.277350  \n",
       "9  0.359211  0.179605  \n",
       "\n",
       "[10 rows x 21 columns]"
      ]
     },
     "execution_count": 343,
     "metadata": {},
     "output_type": "execute_result"
    }
   ],
   "source": [
    "final_df.head(10)"
   ]
  },
  {
   "cell_type": "markdown",
   "metadata": {},
   "source": [
    "#### Train Validation Test Split - 80 - 10 - 10"
   ]
  },
  {
   "cell_type": "code",
   "execution_count": 344,
   "metadata": {},
   "outputs": [],
   "source": [
    "train_X,val_test_X, train_Y, val_test_Y = train_test_split(final_df.iloc[:,2:],final_df.iloc[:,1],\n",
    "                                                           test_size = 0.2,stratify = final_df.iloc[:,1])"
   ]
  },
  {
   "cell_type": "code",
   "execution_count": 345,
   "metadata": {},
   "outputs": [],
   "source": [
    "val_X,test_X, val_Y, test_Y = train_test_split(val_test_X,val_test_Y, test_size = 0.5, stratify = val_test_Y)"
   ]
  },
  {
   "cell_type": "markdown",
   "metadata": {},
   "source": [
    "### Model Building"
   ]
  },
  {
   "cell_type": "markdown",
   "metadata": {},
   "source": [
    "#### 1. Logistic Regression"
   ]
  },
  {
   "cell_type": "code",
   "execution_count": 346,
   "metadata": {
    "collapsed": true
   },
   "outputs": [],
   "source": [
    "from sklearn.linear_model import LogisticRegression"
   ]
  },
  {
   "cell_type": "code",
   "execution_count": 347,
   "metadata": {},
   "outputs": [
    {
     "data": {
      "text/plain": [
       "LogisticRegression(C=1.0, class_weight=None, dual=False, fit_intercept=True,\n",
       "          intercept_scaling=1, max_iter=100, multi_class='ovr', n_jobs=1,\n",
       "          penalty='l2', random_state=None, solver='liblinear', tol=0.0001,\n",
       "          verbose=0, warm_start=False)"
      ]
     },
     "execution_count": 347,
     "metadata": {},
     "output_type": "execute_result"
    }
   ],
   "source": [
    "lr_model = LogisticRegression()\n",
    "lr_model.fit(train_X, train_Y)"
   ]
  },
  {
   "cell_type": "code",
   "execution_count": 348,
   "metadata": {
    "collapsed": true
   },
   "outputs": [],
   "source": [
    "lr_train_pred = lr_model.predict_proba(train_X)\n",
    "lr_val_pred = lr_model.predict_proba(val_X)"
   ]
  },
  {
   "cell_type": "markdown",
   "metadata": {},
   "source": [
    "#### Metrics"
   ]
  },
  {
   "cell_type": "code",
   "execution_count": 349,
   "metadata": {},
   "outputs": [
    {
     "data": {
      "text/html": [
       "<div>\n",
       "<table border=\"1\" class=\"dataframe\">\n",
       "  <thead>\n",
       "    <tr style=\"text-align: right;\">\n",
       "      <th></th>\n",
       "      <th>0</th>\n",
       "    </tr>\n",
       "  </thead>\n",
       "  <tbody>\n",
       "    <tr>\n",
       "      <th>recall</th>\n",
       "      <td>0.968912</td>\n",
       "    </tr>\n",
       "    <tr>\n",
       "      <th>accuracy</th>\n",
       "      <td>0.971377</td>\n",
       "    </tr>\n",
       "    <tr>\n",
       "      <th>precision</th>\n",
       "      <td>0.949239</td>\n",
       "    </tr>\n",
       "  </tbody>\n",
       "</table>\n",
       "</div>"
      ],
      "text/plain": [
       "                  0\n",
       "recall     0.968912\n",
       "accuracy   0.971377\n",
       "precision  0.949239"
      ]
     },
     "execution_count": 349,
     "metadata": {},
     "output_type": "execute_result"
    },
    {
     "data": {
      "image/png": "[encoded data removed]",
      "text/plain": [
       "<matplotlib.figure.Figure at 0x1c7ee6c7630>"
      ]
     },
     "metadata": {},
     "output_type": "display_data"
    }
   ],
   "source": [
    "pd.DataFrame.from_dict(generate_metrics(train_Y, lr_train_pred[:,1]), orient = 'index')"
   ]
  },
  {
   "cell_type": "code",
   "execution_count": 350,
   "metadata": {},
   "outputs": [
    {
     "data": {
      "text/html": [
       "<div>\n",
       "<table border=\"1\" class=\"dataframe\">\n",
       "  <thead>\n",
       "    <tr style=\"text-align: right;\">\n",
       "      <th></th>\n",
       "      <th>0</th>\n",
       "    </tr>\n",
       "  </thead>\n",
       "  <tbody>\n",
       "    <tr>\n",
       "      <th>recall</th>\n",
       "      <td>0.875000</td>\n",
       "    </tr>\n",
       "    <tr>\n",
       "      <th>accuracy</th>\n",
       "      <td>0.928571</td>\n",
       "    </tr>\n",
       "    <tr>\n",
       "      <th>precision</th>\n",
       "      <td>0.913043</td>\n",
       "    </tr>\n",
       "  </tbody>\n",
       "</table>\n",
       "</div>"
      ],
      "text/plain": [
       "                  0\n",
       "recall     0.875000\n",
       "accuracy   0.928571\n",
       "precision  0.913043"
      ]
     },
     "execution_count": 350,
     "metadata": {},
     "output_type": "execute_result"
    },
    {
     "data": {
      "image/png": "[encoded data removed]",
      "text/plain": [
       "<matplotlib.figure.Figure at 0x1c7eb83d0f0>"
      ]
     },
     "metadata": {},
     "output_type": "display_data"
    }
   ],
   "source": [
    "pd.DataFrame.from_dict(generate_metrics(val_Y, lr_val_pred[:,1]), orient = 'index')"
   ]
  },
  {
   "cell_type": "markdown",
   "metadata": {},
   "source": [
    "#### 2. GradientBoosting "
   ]
  },
  {
   "cell_type": "code",
   "execution_count": 353,
   "metadata": {},
   "outputs": [],
   "source": [
    "from sklearn.ensemble import GradientBoostingClassifier"
   ]
  },
  {
   "cell_type": "code",
   "execution_count": 354,
   "metadata": {},
   "outputs": [
    {
     "data": {
      "text/plain": [
       "GradientBoostingClassifier(criterion='friedman_mse', init=None,\n",
       "              learning_rate=0.1, loss='deviance', max_depth=3,\n",
       "              max_features=None, max_leaf_nodes=None,\n",
       "              min_impurity_decrease=0.0, min_impurity_split=None,\n",
       "              min_samples_leaf=1, min_samples_split=2,\n",
       "              min_weight_fraction_leaf=0.0, n_estimators=100,\n",
       "              presort='auto', random_state=None, subsample=1.0, verbose=0,\n",
       "              warm_start=False)"
      ]
     },
     "execution_count": 354,
     "metadata": {},
     "output_type": "execute_result"
    }
   ],
   "source": [
    "gbm_model = GradientBoostingClassifier()\n",
    "gbm_model.fit(train_X, train_Y)"
   ]
  },
  {
   "cell_type": "code",
   "execution_count": 357,
   "metadata": {},
   "outputs": [],
   "source": [
    "gbm_train_pred = gbm_model.predict_proba(train_X)\n",
    "gbm_val_pred = gbm_model.predict_proba(val_X)"
   ]
  },
  {
   "cell_type": "markdown",
   "metadata": {},
   "source": [
    "#### Metrics"
   ]
  },
  {
   "cell_type": "code",
   "execution_count": 358,
   "metadata": {},
   "outputs": [
    {
     "data": {
      "text/html": [
       "<div>\n",
       "<table border=\"1\" class=\"dataframe\">\n",
       "  <thead>\n",
       "    <tr style=\"text-align: right;\">\n",
       "      <th></th>\n",
       "      <th>0</th>\n",
       "    </tr>\n",
       "  </thead>\n",
       "  <tbody>\n",
       "    <tr>\n",
       "      <th>recall</th>\n",
       "      <td>0.994819</td>\n",
       "    </tr>\n",
       "    <tr>\n",
       "      <th>accuracy</th>\n",
       "      <td>0.998211</td>\n",
       "    </tr>\n",
       "    <tr>\n",
       "      <th>precision</th>\n",
       "      <td>1.000000</td>\n",
       "    </tr>\n",
       "  </tbody>\n",
       "</table>\n",
       "</div>"
      ],
      "text/plain": [
       "                  0\n",
       "recall     0.994819\n",
       "accuracy   0.998211\n",
       "precision  1.000000"
      ]
     },
     "execution_count": 358,
     "metadata": {},
     "output_type": "execute_result"
    },
    {
     "data": {
      "image/png": "[encoded data removed]",
      "text/plain": [
       "<matplotlib.figure.Figure at 0x1c7ee72fdd8>"
      ]
     },
     "metadata": {},
     "output_type": "display_data"
    }
   ],
   "source": [
    "pd.DataFrame.from_dict(generate_metrics(train_Y, gbm_train_pred[:,1]), orient = 'index')"
   ]
  },
  {
   "cell_type": "code",
   "execution_count": 360,
   "metadata": {},
   "outputs": [
    {
     "data": {
      "text/html": [
       "<div>\n",
       "<table border=\"1\" class=\"dataframe\">\n",
       "  <thead>\n",
       "    <tr style=\"text-align: right;\">\n",
       "      <th></th>\n",
       "      <th>0</th>\n",
       "    </tr>\n",
       "  </thead>\n",
       "  <tbody>\n",
       "    <tr>\n",
       "      <th>recall</th>\n",
       "      <td>0.916667</td>\n",
       "    </tr>\n",
       "    <tr>\n",
       "      <th>accuracy</th>\n",
       "      <td>0.957143</td>\n",
       "    </tr>\n",
       "    <tr>\n",
       "      <th>precision</th>\n",
       "      <td>0.956522</td>\n",
       "    </tr>\n",
       "  </tbody>\n",
       "</table>\n",
       "</div>"
      ],
      "text/plain": [
       "                  0\n",
       "recall     0.916667\n",
       "accuracy   0.957143\n",
       "precision  0.956522"
      ]
     },
     "execution_count": 360,
     "metadata": {},
     "output_type": "execute_result"
    },
    {
     "data": {
      "image/png": "[encoded data removed]",
      "text/plain": [
       "<matplotlib.figure.Figure at 0x1c7ee72f2b0>"
      ]
     },
     "metadata": {},
     "output_type": "display_data"
    }
   ],
   "source": [
    "pd.DataFrame.from_dict(generate_metrics(val_Y, gbm_val_pred[:,1]), orient = 'index')"
   ]
  },
  {
   "cell_type": "markdown",
   "metadata": {},
   "source": [
    "#### 3. ADB"
   ]
  },
  {
   "cell_type": "code",
   "execution_count": 361,
   "metadata": {
    "collapsed": true
   },
   "outputs": [],
   "source": [
    "from sklearn.ensemble import AdaBoostClassifier"
   ]
  },
  {
   "cell_type": "code",
   "execution_count": 362,
   "metadata": {},
   "outputs": [
    {
     "data": {
      "text/plain": [
       "AdaBoostClassifier(algorithm='SAMME.R', base_estimator=None,\n",
       "          learning_rate=1.0, n_estimators=50, random_state=None)"
      ]
     },
     "execution_count": 362,
     "metadata": {},
     "output_type": "execute_result"
    }
   ],
   "source": [
    "adb_model = AdaBoostClassifier()\n",
    "adb_model.fit(train_X, train_Y)"
   ]
  },
  {
   "cell_type": "code",
   "execution_count": 363,
   "metadata": {
    "collapsed": true
   },
   "outputs": [],
   "source": [
    "adb_train_pred = adb_model.predict_proba(train_X)\n",
    "adb_val_pred = adb_model.predict_proba(val_X)"
   ]
  },
  {
   "cell_type": "code",
   "execution_count": 365,
   "metadata": {},
   "outputs": [
    {
     "data": {
      "text/html": [
       "<div>\n",
       "<table border=\"1\" class=\"dataframe\">\n",
       "  <thead>\n",
       "    <tr style=\"text-align: right;\">\n",
       "      <th></th>\n",
       "      <th>0</th>\n",
       "    </tr>\n",
       "  </thead>\n",
       "  <tbody>\n",
       "    <tr>\n",
       "      <th>recall</th>\n",
       "      <td>0.994819</td>\n",
       "    </tr>\n",
       "    <tr>\n",
       "      <th>accuracy</th>\n",
       "      <td>0.998211</td>\n",
       "    </tr>\n",
       "    <tr>\n",
       "      <th>precision</th>\n",
       "      <td>1.000000</td>\n",
       "    </tr>\n",
       "  </tbody>\n",
       "</table>\n",
       "</div>"
      ],
      "text/plain": [
       "                  0\n",
       "recall     0.994819\n",
       "accuracy   0.998211\n",
       "precision  1.000000"
      ]
     },
     "execution_count": 365,
     "metadata": {},
     "output_type": "execute_result"
    },
    {
     "data": {
      "image/png": "[encoded data removed]",
      "text/plain": [
       "<matplotlib.figure.Figure at 0x1c7ecef3358>"
      ]
     },
     "metadata": {},
     "output_type": "display_data"
    }
   ],
   "source": [
    "pd.DataFrame.from_dict(generate_metrics(train_Y, adb_train_pred[:,1]), orient = 'index')"
   ]
  },
  {
   "cell_type": "code",
   "execution_count": 366,
   "metadata": {},
   "outputs": [
    {
     "data": {
      "text/html": [
       "<div>\n",
       "<table border=\"1\" class=\"dataframe\">\n",
       "  <thead>\n",
       "    <tr style=\"text-align: right;\">\n",
       "      <th></th>\n",
       "      <th>0</th>\n",
       "    </tr>\n",
       "  </thead>\n",
       "  <tbody>\n",
       "    <tr>\n",
       "      <th>recall</th>\n",
       "      <td>0.875000</td>\n",
       "    </tr>\n",
       "    <tr>\n",
       "      <th>accuracy</th>\n",
       "      <td>0.942857</td>\n",
       "    </tr>\n",
       "    <tr>\n",
       "      <th>precision</th>\n",
       "      <td>0.954545</td>\n",
       "    </tr>\n",
       "  </tbody>\n",
       "</table>\n",
       "</div>"
      ],
      "text/plain": [
       "                  0\n",
       "recall     0.875000\n",
       "accuracy   0.942857\n",
       "precision  0.954545"
      ]
     },
     "execution_count": 366,
     "metadata": {},
     "output_type": "execute_result"
    },
    {
     "data": {
      "image/png": "[encoded data removed]",
      "text/plain": [
       "<matplotlib.figure.Figure at 0x1c7eb385ba8>"
      ]
     },
     "metadata": {},
     "output_type": "display_data"
    }
   ],
   "source": [
    "pd.DataFrame.from_dict(generate_metrics(val_Y, adb_val_pred[:,1]), orient = 'index')"
   ]
  },
  {
   "cell_type": "markdown",
   "metadata": {},
   "source": [
    "#### 4. SVM"
   ]
  },
  {
   "cell_type": "code",
   "execution_count": 367,
   "metadata": {
    "collapsed": true
   },
   "outputs": [],
   "source": [
    "from sklearn.svm import SVC"
   ]
  },
  {
   "cell_type": "code",
   "execution_count": 373,
   "metadata": {
    "collapsed": true
   },
   "outputs": [],
   "source": [
    "svm_model = SVC(probability=True)"
   ]
  },
  {
   "cell_type": "code",
   "execution_count": 374,
   "metadata": {},
   "outputs": [
    {
     "data": {
      "text/plain": [
       "SVC(C=1.0, cache_size=200, class_weight=None, coef0=0.0,\n",
       "  decision_function_shape='ovr', degree=3, gamma='auto', kernel='rbf',\n",
       "  max_iter=-1, probability=True, random_state=None, shrinking=True,\n",
       "  tol=0.001, verbose=False)"
      ]
     },
     "execution_count": 374,
     "metadata": {},
     "output_type": "execute_result"
    }
   ],
   "source": [
    "svm_model.fit(train_X, train_Y)"
   ]
  },
  {
   "cell_type": "code",
   "execution_count": 375,
   "metadata": {},
   "outputs": [],
   "source": [
    "svm_train_pred = svm_model.predict_proba(train_X)\n",
    "svm_val_pred = svm_model.predict_proba(val_X)"
   ]
  },
  {
   "cell_type": "code",
   "execution_count": 377,
   "metadata": {},
   "outputs": [
    {
     "data": {
      "text/html": [
       "<div>\n",
       "<table border=\"1\" class=\"dataframe\">\n",
       "  <thead>\n",
       "    <tr style=\"text-align: right;\">\n",
       "      <th></th>\n",
       "      <th>0</th>\n",
       "    </tr>\n",
       "  </thead>\n",
       "  <tbody>\n",
       "    <tr>\n",
       "      <th>recall</th>\n",
       "      <td>0.989637</td>\n",
       "    </tr>\n",
       "    <tr>\n",
       "      <th>accuracy</th>\n",
       "      <td>0.971377</td>\n",
       "    </tr>\n",
       "    <tr>\n",
       "      <th>precision</th>\n",
       "      <td>0.931707</td>\n",
       "    </tr>\n",
       "  </tbody>\n",
       "</table>\n",
       "</div>"
      ],
      "text/plain": [
       "                  0\n",
       "recall     0.989637\n",
       "accuracy   0.971377\n",
       "precision  0.931707"
      ]
     },
     "execution_count": 377,
     "metadata": {},
     "output_type": "execute_result"
    },
    {
     "data": {
      "image/png": "[encoded data removed]",
      "text/plain": [
       "<matplotlib.figure.Figure at 0x1c7ec9766d8>"
      ]
     },
     "metadata": {},
     "output_type": "display_data"
    }
   ],
   "source": [
    "pd.DataFrame.from_dict(generate_metrics(train_Y, svm_train_pred[:,1]), orient = 'index')"
   ]
  },
  {
   "cell_type": "code",
   "execution_count": 378,
   "metadata": {},
   "outputs": [
    {
     "data": {
      "text/html": [
       "<div>\n",
       "<table border=\"1\" class=\"dataframe\">\n",
       "  <thead>\n",
       "    <tr style=\"text-align: right;\">\n",
       "      <th></th>\n",
       "      <th>0</th>\n",
       "    </tr>\n",
       "  </thead>\n",
       "  <tbody>\n",
       "    <tr>\n",
       "      <th>recall</th>\n",
       "      <td>0.875000</td>\n",
       "    </tr>\n",
       "    <tr>\n",
       "      <th>accuracy</th>\n",
       "      <td>0.928571</td>\n",
       "    </tr>\n",
       "    <tr>\n",
       "      <th>precision</th>\n",
       "      <td>0.913043</td>\n",
       "    </tr>\n",
       "  </tbody>\n",
       "</table>\n",
       "</div>"
      ],
      "text/plain": [
       "                  0\n",
       "recall     0.875000\n",
       "accuracy   0.928571\n",
       "precision  0.913043"
      ]
     },
     "execution_count": 378,
     "metadata": {},
     "output_type": "execute_result"
    },
    {
     "data": {
      "image/png": "[encoded data removed]",
      "text/plain": [
       "<matplotlib.figure.Figure at 0x1c7eb7e0278>"
      ]
     },
     "metadata": {},
     "output_type": "display_data"
    }
   ],
   "source": [
    "pd.DataFrame.from_dict(generate_metrics(val_Y, svm_val_pred[:,1]), orient = 'index')"
   ]
  },
  {
   "cell_type": "code",
   "execution_count": null,
   "metadata": {
    "collapsed": true
   },
   "outputs": [],
   "source": []
  }
 ],
 "metadata": {
  "kernelspec": {
   "display_name": "Python 3",
   "language": "python",
   "name": "python3"
  },
  "language_info": {
   "codemirror_mode": {
    "name": "ipython",
    "version": 3
   },
   "file_extension": ".py",
   "mimetype": "text/x-python",
   "name": "python",
   "nbconvert_exporter": "python",
   "pygments_lexer": "ipython3",
   "version": "3.6.4"
  }
 },
 "nbformat": 4,
 "nbformat_minor": 1
}
